{
 "cells": [
  {
   "cell_type": "code",
   "execution_count": 11,
   "id": "5e26acd0-aba4-448f-9020-dcb81da78e73",
   "metadata": {},
   "outputs": [],
   "source": [
    "import numpy as np\n",
    "import matplotlib.pyplot as plt"
   ]
  },
  {
   "cell_type": "code",
   "execution_count": 12,
   "id": "5f33220a-a3bd-4857-b0eb-3a1bb95c680b",
   "metadata": {},
   "outputs": [],
   "source": [
    "def gaussian_kernal(x,xi,tau):\n",
    "    return np.exp(-np.sum((x-xi)**2)/(2*tau**2))"
   ]
  },
  {
   "cell_type": "code",
   "execution_count": 13,
   "id": "e5f0fa35-10e1-45ac-81ee-7cd1edd28409",
   "metadata": {},
   "outputs": [],
   "source": [
    "def locally_weighted_regression(x,X,y,tau):\n",
    "    m=X.shap[0]\n",
    "    weight=np.array([gaussian_kernal(x,X[i],tau) for i in range(m)])\n",
    "    W=np.diag(weights)\n",
    "    X_transpose_W=X.T@W\n",
    "    theta=np.linalg.inv(X_transpose_W@X)@X_transpose_W@y\n",
    "    return x@theta\n"
   ]
  },
  {
   "cell_type": "code",
   "execution_count": 19,
   "id": "89adc8f4-aa6d-423b-b497-b10a0da59c50",
   "metadata": {},
   "outputs": [
    {
     "ename": "NameError",
     "evalue": "name 'shape' is not defined",
     "output_type": "error",
     "traceback": [
      "\u001b[0;31m---------------------------------------------------------------------------\u001b[0m",
      "\u001b[0;31mNameError\u001b[0m                                 Traceback (most recent call last)",
      "Cell \u001b[0;32mIn[19], line 4\u001b[0m\n\u001b[1;32m      2\u001b[0m X \u001b[38;5;241m=\u001b[39m np\u001b[38;5;241m.\u001b[39mlinspace(\u001b[38;5;241m0\u001b[39m, \u001b[38;5;241m2\u001b[39m \u001b[38;5;241m*\u001b[39m np\u001b[38;5;241m.\u001b[39mpi, \u001b[38;5;241m100\u001b[39m)\n\u001b[1;32m      3\u001b[0m y\u001b[38;5;241m=\u001b[39mnp\u001b[38;5;241m.\u001b[39msin(X)\u001b[38;5;241m+\u001b[39m\u001b[38;5;241m0.1\u001b[39m\u001b[38;5;241m*\u001b[39mnp\u001b[38;5;241m.\u001b[39mrandom\u001b[38;5;241m.\u001b[39mrandn(\u001b[38;5;241m100\u001b[39m)\n\u001b[0;32m----> 4\u001b[0m X_bais\u001b[38;5;241m=\u001b[39mnp\u001b[38;5;241m.\u001b[39mc_[np\u001b[38;5;241m.\u001b[39mones(X\u001b[38;5;241m>\u001b[39m\u001b[43mshape\u001b[49m),X]\n\u001b[1;32m      5\u001b[0m x_test\u001b[38;5;241m=\u001b[39mnp\u001b[38;5;241m.\u001b[39mlinespace(\u001b[38;5;241m0\u001b[39m,\u001b[38;5;241m2\u001b[39m\u001b[38;5;241m*\u001b[39mnp\u001b[38;5;241m.\u001b[39mpi,\u001b[38;5;241m200\u001b[39m)\n\u001b[1;32m      6\u001b[0m x_test_bias\u001b[38;5;241m=\u001b[39mnp\u001b[38;5;241m.\u001b[39mc_[np\u001b[38;5;241m.\u001b[39mones(x\u001b[38;5;241m-\u001b[39mtest\u001b[38;5;241m.\u001b[39mshape),x_test]\n",
      "\u001b[0;31mNameError\u001b[0m: name 'shape' is not defined"
     ]
    }
   ],
   "source": [
    "np.random.seed(42)\n",
    "X = np.linspace(0, 2 * np.pi, 100)\n",
    "y=np.sin(X)+0.1*np.random.randn(100)\n",
    "X_bais=np.c_[np.ones(X>shape),X]\n",
    "x_test=np.linespace(0,2*np.pi,200)\n",
    "x_test_bias=np.c_[np.ones(x-test.shape),x_test]\n",
    "tau=0.5\n",
    "Y=pred=np.array([locally_weighted_regression(xi,X-bais,y,tau) for xi in x_test_bais])\n",
    "plt.figure(figsize=(10,6))\n",
    "plt.scatter(X,y,color='red',label='Training Data',alpha=0.7)\n",
    "plt.plot(x_test,y_pred,color='blue',label=f'LWR Fit(tau={tau})',linewidth=2)\n",
    "plt.xlabel('X',fontsize=12)\n",
    "plt.ylabel('y',fontsize=12)\n",
    "plt.title('locally weighted regression',fontsize=14)\n",
    "plt.legend(fontsize=10)\n",
    "plt.grid(alpha=0.3)\n",
    "plt.show()"
   ]
  },
  {
   "cell_type": "code",
   "execution_count": null,
   "id": "7ea6f570-b5e3-4298-9d49-be5c548fb257",
   "metadata": {},
   "outputs": [],
   "source": []
  }
 ],
 "metadata": {
  "kernelspec": {
   "display_name": "Python 3 (ipykernel)",
   "language": "python",
   "name": "python3"
  },
  "language_info": {
   "codemirror_mode": {
    "name": "ipython",
    "version": 3
   },
   "file_extension": ".py",
   "mimetype": "text/x-python",
   "name": "python",
   "nbconvert_exporter": "python",
   "pygments_lexer": "ipython3",
   "version": "3.10.12"
  }
 },
 "nbformat": 4,
 "nbformat_minor": 5
}
